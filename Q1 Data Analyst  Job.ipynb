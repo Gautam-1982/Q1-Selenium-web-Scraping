{
 "cells": [
  {
   "cell_type": "code",
   "execution_count": 27,
   "metadata": {},
   "outputs": [],
   "source": [
    "import selenium\n",
    "import pandas as pd\n",
    "from selenium import webdriver"
   ]
  },
  {
   "cell_type": "code",
   "execution_count": 28,
   "metadata": {},
   "outputs": [],
   "source": [
    "driver = webdriver.Chrome(executable_path=\"D:\\\\chromedriver_win32\\\\chromedriver.exe\")"
   ]
  },
  {
   "cell_type": "code",
   "execution_count": 29,
   "metadata": {},
   "outputs": [],
   "source": [
    "driver.get('https://www.naukri.com/')"
   ]
  },
  {
   "cell_type": "code",
   "execution_count": 30,
   "metadata": {},
   "outputs": [],
   "source": [
    "search_job = driver.find_element_by_id('qsb-keyword-sugg')\n",
    "search_job.send_keys(\"Data Analyst\")\n",
    "search_loc = driver .find_element_by_xpath(\"//input[@id='qsb-location-sugg']\")\n",
    "search_loc.send_keys(\"Bangalore\")\n",
    "                                                     "
   ]
  },
  {
   "cell_type": "code",
   "execution_count": 31,
   "metadata": {},
   "outputs": [],
   "source": [
    "search_btn=driver.find_element_by_xpath(\"//div[@class='search-btn']/button\")\n",
    "search_btn.click()"
   ]
  },
  {
   "cell_type": "code",
   "execution_count": 32,
   "metadata": {},
   "outputs": [],
   "source": [
    "url=\"https://www.naukri.com/data-analyst-jobs-in-bangalore?k=data%20analyst&l=bangalore\""
   ]
  },
  {
   "cell_type": "code",
   "execution_count": 33,
   "metadata": {},
   "outputs": [],
   "source": [
    "driver.get(url)"
   ]
  },
  {
   "cell_type": "code",
   "execution_count": 34,
   "metadata": {},
   "outputs": [],
   "source": [
    "job_titles=[]\n",
    "company_names=[]\n",
    "location_lists=[]\n",
    "experiences_required=[]\n",
    "\n"
   ]
  },
  {
   "cell_type": "code",
   "execution_count": 35,
   "metadata": {},
   "outputs": [
    {
     "data": {
      "text/plain": [
       "[<selenium.webdriver.remote.webelement.WebElement (session=\"bf090d4ab049a0156c0dc09edaa8eb84\", element=\"fb43a6cf-82af-46f7-9465-2f0678903478\")>,\n",
       " <selenium.webdriver.remote.webelement.WebElement (session=\"bf090d4ab049a0156c0dc09edaa8eb84\", element=\"3c13b552-12c5-4590-b748-3a7eab3ba947\")>,\n",
       " <selenium.webdriver.remote.webelement.WebElement (session=\"bf090d4ab049a0156c0dc09edaa8eb84\", element=\"12ee6905-8787-4d0d-a97a-97e419e0a223\")>,\n",
       " <selenium.webdriver.remote.webelement.WebElement (session=\"bf090d4ab049a0156c0dc09edaa8eb84\", element=\"c5f11146-0dd8-4c63-ab9a-b13461f222b2\")>,\n",
       " <selenium.webdriver.remote.webelement.WebElement (session=\"bf090d4ab049a0156c0dc09edaa8eb84\", element=\"12369a4d-9cad-4937-a2ac-e4be6264cb59\")>,\n",
       " <selenium.webdriver.remote.webelement.WebElement (session=\"bf090d4ab049a0156c0dc09edaa8eb84\", element=\"79111fe4-4840-44dc-83da-4d22b8cdb318\")>,\n",
       " <selenium.webdriver.remote.webelement.WebElement (session=\"bf090d4ab049a0156c0dc09edaa8eb84\", element=\"ccb4712f-9db8-4b9d-a431-8eb43c7d20c6\")>,\n",
       " <selenium.webdriver.remote.webelement.WebElement (session=\"bf090d4ab049a0156c0dc09edaa8eb84\", element=\"540e093f-f6ce-41c0-92ea-6583d8a8805b\")>,\n",
       " <selenium.webdriver.remote.webelement.WebElement (session=\"bf090d4ab049a0156c0dc09edaa8eb84\", element=\"4b268314-7851-485f-bb54-9e08a8762ebb\")>,\n",
       " <selenium.webdriver.remote.webelement.WebElement (session=\"bf090d4ab049a0156c0dc09edaa8eb84\", element=\"97dbb343-ccb4-46b6-ba96-190bfe1a23cd\")>]"
      ]
     },
     "execution_count": 35,
     "metadata": {},
     "output_type": "execute_result"
    }
   ],
   "source": [
    "title_tags=driver.find_elements_by_xpath(\"//a[@class='title fw500 ellipsis']\")\n",
    "title_tags[0:10]"
   ]
  },
  {
   "cell_type": "code",
   "execution_count": 36,
   "metadata": {},
   "outputs": [
    {
     "data": {
      "text/plain": [
       "['Data Analyst',\n",
       " 'Data Analyst',\n",
       " 'Data Analyst',\n",
       " 'Data Analyst',\n",
       " 'Data Analyst',\n",
       " 'Data Analyst',\n",
       " 'Data Analyst',\n",
       " 'Data Analyst',\n",
       " 'Data Analyst',\n",
       " 'Senior Data Analyst']"
      ]
     },
     "execution_count": 36,
     "metadata": {},
     "output_type": "execute_result"
    }
   ],
   "source": [
    "for i in title_tags:\n",
    "    title=i.text\n",
    "    job_titles.append(title)\n",
    "job_titles[0:10]"
   ]
  },
  {
   "cell_type": "code",
   "execution_count": 37,
   "metadata": {},
   "outputs": [
    {
     "data": {
      "text/plain": [
       "[<selenium.webdriver.remote.webelement.WebElement (session=\"bf090d4ab049a0156c0dc09edaa8eb84\", element=\"fad4f53b-3148-4c36-9501-eaf42b940a9f\")>,\n",
       " <selenium.webdriver.remote.webelement.WebElement (session=\"bf090d4ab049a0156c0dc09edaa8eb84\", element=\"006093f5-561b-463e-a671-291d09ecdb99\")>,\n",
       " <selenium.webdriver.remote.webelement.WebElement (session=\"bf090d4ab049a0156c0dc09edaa8eb84\", element=\"1767c151-3aaf-4bef-b743-3ce9bbebf8f4\")>,\n",
       " <selenium.webdriver.remote.webelement.WebElement (session=\"bf090d4ab049a0156c0dc09edaa8eb84\", element=\"29fa0abb-2eca-4161-b9b2-75fe8065f5ac\")>,\n",
       " <selenium.webdriver.remote.webelement.WebElement (session=\"bf090d4ab049a0156c0dc09edaa8eb84\", element=\"68c92727-da5d-40b2-8816-4d707cd529de\")>,\n",
       " <selenium.webdriver.remote.webelement.WebElement (session=\"bf090d4ab049a0156c0dc09edaa8eb84\", element=\"03720ce2-8950-47ba-acb9-85c5ca08aa1d\")>,\n",
       " <selenium.webdriver.remote.webelement.WebElement (session=\"bf090d4ab049a0156c0dc09edaa8eb84\", element=\"acd884e6-4ab2-4df3-b791-1e839f92cef8\")>,\n",
       " <selenium.webdriver.remote.webelement.WebElement (session=\"bf090d4ab049a0156c0dc09edaa8eb84\", element=\"f05e7801-b881-471f-88b1-06f91d7eab3a\")>,\n",
       " <selenium.webdriver.remote.webelement.WebElement (session=\"bf090d4ab049a0156c0dc09edaa8eb84\", element=\"623e354e-33b3-46f6-bb69-5cd42613b154\")>,\n",
       " <selenium.webdriver.remote.webelement.WebElement (session=\"bf090d4ab049a0156c0dc09edaa8eb84\", element=\"8f6fb79b-b551-4e54-bb5a-475224be89d3\")>]"
      ]
     },
     "execution_count": 37,
     "metadata": {},
     "output_type": "execute_result"
    }
   ],
   "source": [
    "companies_tags=driver.find_elements_by_xpath(\"//a[@class='subTitle ellipsis fleft']\")\n",
    "companies_tags[0:10]"
   ]
  },
  {
   "cell_type": "code",
   "execution_count": 38,
   "metadata": {},
   "outputs": [
    {
     "data": {
      "text/plain": [
       "['RedLock, Inc',\n",
       " 'Super India Tech Mark',\n",
       " 'tech mahindra ltd',\n",
       " 'CONDUENT BUSINESS SERVICES INDIA LLP',\n",
       " 'GlaxoSmithKline Pharmaceuticals Limited',\n",
       " 'Myntra Designs Pvt. Ltd.',\n",
       " 'Myntra Designs Pvt. Ltd.',\n",
       " 'Myntra Designs Pvt. Ltd.',\n",
       " 'WEIWO Communication Pvt. Ltd.',\n",
       " 'Cerner']"
      ]
     },
     "execution_count": 38,
     "metadata": {},
     "output_type": "execute_result"
    }
   ],
   "source": [
    "for i in companies_tags:\n",
    "    company_name=i.text\n",
    "    company_names.append(company_name)\n",
    "company_names[0:10]"
   ]
  },
  {
   "cell_type": "code",
   "execution_count": 39,
   "metadata": {},
   "outputs": [
    {
     "data": {
      "text/plain": [
       "[<selenium.webdriver.remote.webelement.WebElement (session=\"bf090d4ab049a0156c0dc09edaa8eb84\", element=\"4beaa83b-5aeb-4f4c-9530-117ca559760b\")>,\n",
       " <selenium.webdriver.remote.webelement.WebElement (session=\"bf090d4ab049a0156c0dc09edaa8eb84\", element=\"7e53797a-0d5c-48d0-8bb9-faad1b1ec366\")>,\n",
       " <selenium.webdriver.remote.webelement.WebElement (session=\"bf090d4ab049a0156c0dc09edaa8eb84\", element=\"cbd0bb18-b4f8-4b97-8c15-74c761086d9f\")>,\n",
       " <selenium.webdriver.remote.webelement.WebElement (session=\"bf090d4ab049a0156c0dc09edaa8eb84\", element=\"13bf136d-33a5-4a97-831b-b67aa6e4dfa0\")>,\n",
       " <selenium.webdriver.remote.webelement.WebElement (session=\"bf090d4ab049a0156c0dc09edaa8eb84\", element=\"a16397d6-4497-4d67-a214-d006bbe01c36\")>,\n",
       " <selenium.webdriver.remote.webelement.WebElement (session=\"bf090d4ab049a0156c0dc09edaa8eb84\", element=\"099caf0a-c62e-47e0-87eb-49b8b7f966c9\")>,\n",
       " <selenium.webdriver.remote.webelement.WebElement (session=\"bf090d4ab049a0156c0dc09edaa8eb84\", element=\"2f85ca9c-f242-48a0-87ec-cacc72a8b277\")>,\n",
       " <selenium.webdriver.remote.webelement.WebElement (session=\"bf090d4ab049a0156c0dc09edaa8eb84\", element=\"7bf865fb-ded5-42cb-ab93-de5d3cbaf570\")>,\n",
       " <selenium.webdriver.remote.webelement.WebElement (session=\"bf090d4ab049a0156c0dc09edaa8eb84\", element=\"c61521f8-5702-4dea-86cd-e76033b4e4e0\")>,\n",
       " <selenium.webdriver.remote.webelement.WebElement (session=\"bf090d4ab049a0156c0dc09edaa8eb84\", element=\"10a80900-9660-4bee-a973-a4a5d2612866\")>]"
      ]
     },
     "execution_count": 39,
     "metadata": {},
     "output_type": "execute_result"
    }
   ],
   "source": [
    "locations_tags=driver.find_elements_by_xpath(\"//li[@class='fleft grey-text br2 placeHolderLi location']/span[1]\")\n",
    "locations_tags[0:10]"
   ]
  },
  {
   "cell_type": "code",
   "execution_count": 40,
   "metadata": {},
   "outputs": [
    {
     "data": {
      "text/plain": [
       "['Bangalore/Bengaluru',\n",
       " 'Bangalore/Bengaluru(Devalapur)',\n",
       " 'Bangalore/Bengaluru',\n",
       " 'Bangalore/Bengaluru',\n",
       " 'Bangalore/Bengaluru',\n",
       " 'Bangalore/Bengaluru',\n",
       " 'Bangalore/Bengaluru',\n",
       " 'Bangalore/Bengaluru',\n",
       " 'Bangalore/Bengaluru(Ulsoor)',\n",
       " 'Bangalore/Bengaluru']"
      ]
     },
     "execution_count": 40,
     "metadata": {},
     "output_type": "execute_result"
    }
   ],
   "source": [
    "for i in locations_tags:\n",
    "    location_list=i.text\n",
    "    location_lists.append(location_list)\n",
    "location_lists[0:10]"
   ]
  },
  {
   "cell_type": "code",
   "execution_count": 41,
   "metadata": {},
   "outputs": [
    {
     "data": {
      "text/plain": [
       "[<selenium.webdriver.remote.webelement.WebElement (session=\"bf090d4ab049a0156c0dc09edaa8eb84\", element=\"daa10838-5e0f-4be5-a209-017edc779e54\")>,\n",
       " <selenium.webdriver.remote.webelement.WebElement (session=\"bf090d4ab049a0156c0dc09edaa8eb84\", element=\"a830f8c4-1a69-480e-ac38-a177b781034c\")>,\n",
       " <selenium.webdriver.remote.webelement.WebElement (session=\"bf090d4ab049a0156c0dc09edaa8eb84\", element=\"164a04a9-2d1b-4298-9d82-e6dfac852839\")>,\n",
       " <selenium.webdriver.remote.webelement.WebElement (session=\"bf090d4ab049a0156c0dc09edaa8eb84\", element=\"c19b9f4a-d905-4feb-8ae9-061496d1b414\")>,\n",
       " <selenium.webdriver.remote.webelement.WebElement (session=\"bf090d4ab049a0156c0dc09edaa8eb84\", element=\"a9151a3d-7aca-488a-887c-9216b16b9244\")>,\n",
       " <selenium.webdriver.remote.webelement.WebElement (session=\"bf090d4ab049a0156c0dc09edaa8eb84\", element=\"e390dff4-8d94-4fca-869c-27dcb117b2cf\")>,\n",
       " <selenium.webdriver.remote.webelement.WebElement (session=\"bf090d4ab049a0156c0dc09edaa8eb84\", element=\"75d924fd-a4e0-4a25-ad63-2a22842179d6\")>,\n",
       " <selenium.webdriver.remote.webelement.WebElement (session=\"bf090d4ab049a0156c0dc09edaa8eb84\", element=\"cfdfcf52-3e7d-421c-b6c2-9c514984c2e5\")>,\n",
       " <selenium.webdriver.remote.webelement.WebElement (session=\"bf090d4ab049a0156c0dc09edaa8eb84\", element=\"8ff5afb6-c547-44de-b8a5-fee804c0f10d\")>,\n",
       " <selenium.webdriver.remote.webelement.WebElement (session=\"bf090d4ab049a0156c0dc09edaa8eb84\", element=\"35d64dbf-16f0-4695-b0d7-d8ffceb43715\")>]"
      ]
     },
     "execution_count": 41,
     "metadata": {},
     "output_type": "execute_result"
    }
   ],
   "source": [
    "experience_tags=driver.find_elements_by_xpath(\"//li[@class='fleft grey-text br2 placeHolderLi experience']\")\n",
    "experience_tags[0:10]"
   ]
  },
  {
   "cell_type": "code",
   "execution_count": 42,
   "metadata": {},
   "outputs": [
    {
     "data": {
      "text/plain": [
       "['0-0 Yrs',\n",
       " '0-2 Yrs',\n",
       " '4-8 Yrs',\n",
       " '1-2 Yrs',\n",
       " '2-7 Yrs',\n",
       " '3-6 Yrs',\n",
       " '4-8 Yrs',\n",
       " '4-8 Yrs',\n",
       " '5-8 Yrs',\n",
       " '3-5 Yrs']"
      ]
     },
     "execution_count": 42,
     "metadata": {},
     "output_type": "execute_result"
    }
   ],
   "source": [
    "for i in experience_tags:\n",
    "    experience_required=i.text\n",
    "    experiences_required.append(experience_required)\n",
    "experiences_required[0:10]"
   ]
  },
  {
   "cell_type": "code",
   "execution_count": 43,
   "metadata": {},
   "outputs": [
    {
     "name": "stdout",
     "output_type": "stream",
     "text": [
      "20 20 20 20\n"
     ]
    }
   ],
   "source": [
    "print(len(job_titles), len(company_names), len(location_lists), len(experiences_required))"
   ]
  },
  {
   "cell_type": "code",
   "execution_count": 44,
   "metadata": {},
   "outputs": [],
   "source": [
    "import pandas as pd\n",
    "jobs=pd.DataFrame({})\n",
    "jobs['title']=job_titles[:10]\n",
    "jobs['company']=company_names[:10]\n",
    "jobs['location']=location_lists[:10]\n",
    "jobs['experience']=experiences_required[:10]\n"
   ]
  },
  {
   "cell_type": "code",
   "execution_count": 45,
   "metadata": {},
   "outputs": [
    {
     "data": {
      "text/html": [
       "<div>\n",
       "<style scoped>\n",
       "    .dataframe tbody tr th:only-of-type {\n",
       "        vertical-align: middle;\n",
       "    }\n",
       "\n",
       "    .dataframe tbody tr th {\n",
       "        vertical-align: top;\n",
       "    }\n",
       "\n",
       "    .dataframe thead th {\n",
       "        text-align: right;\n",
       "    }\n",
       "</style>\n",
       "<table border=\"1\" class=\"dataframe\">\n",
       "  <thead>\n",
       "    <tr style=\"text-align: right;\">\n",
       "      <th></th>\n",
       "      <th>title</th>\n",
       "      <th>company</th>\n",
       "      <th>location</th>\n",
       "      <th>experience</th>\n",
       "    </tr>\n",
       "  </thead>\n",
       "  <tbody>\n",
       "    <tr>\n",
       "      <th>0</th>\n",
       "      <td>Data Analyst</td>\n",
       "      <td>RedLock, Inc</td>\n",
       "      <td>Bangalore/Bengaluru</td>\n",
       "      <td>0-0 Yrs</td>\n",
       "    </tr>\n",
       "    <tr>\n",
       "      <th>1</th>\n",
       "      <td>Data Analyst</td>\n",
       "      <td>Super India Tech Mark</td>\n",
       "      <td>Bangalore/Bengaluru(Devalapur)</td>\n",
       "      <td>0-2 Yrs</td>\n",
       "    </tr>\n",
       "    <tr>\n",
       "      <th>2</th>\n",
       "      <td>Data Analyst</td>\n",
       "      <td>tech mahindra ltd</td>\n",
       "      <td>Bangalore/Bengaluru</td>\n",
       "      <td>4-8 Yrs</td>\n",
       "    </tr>\n",
       "    <tr>\n",
       "      <th>3</th>\n",
       "      <td>Data Analyst</td>\n",
       "      <td>CONDUENT BUSINESS SERVICES INDIA LLP</td>\n",
       "      <td>Bangalore/Bengaluru</td>\n",
       "      <td>1-2 Yrs</td>\n",
       "    </tr>\n",
       "    <tr>\n",
       "      <th>4</th>\n",
       "      <td>Data Analyst</td>\n",
       "      <td>GlaxoSmithKline Pharmaceuticals Limited</td>\n",
       "      <td>Bangalore/Bengaluru</td>\n",
       "      <td>2-7 Yrs</td>\n",
       "    </tr>\n",
       "    <tr>\n",
       "      <th>5</th>\n",
       "      <td>Data Analyst</td>\n",
       "      <td>Myntra Designs Pvt. Ltd.</td>\n",
       "      <td>Bangalore/Bengaluru</td>\n",
       "      <td>3-6 Yrs</td>\n",
       "    </tr>\n",
       "    <tr>\n",
       "      <th>6</th>\n",
       "      <td>Data Analyst</td>\n",
       "      <td>Myntra Designs Pvt. Ltd.</td>\n",
       "      <td>Bangalore/Bengaluru</td>\n",
       "      <td>4-8 Yrs</td>\n",
       "    </tr>\n",
       "    <tr>\n",
       "      <th>7</th>\n",
       "      <td>Data Analyst</td>\n",
       "      <td>Myntra Designs Pvt. Ltd.</td>\n",
       "      <td>Bangalore/Bengaluru</td>\n",
       "      <td>4-8 Yrs</td>\n",
       "    </tr>\n",
       "    <tr>\n",
       "      <th>8</th>\n",
       "      <td>Data Analyst</td>\n",
       "      <td>WEIWO Communication Pvt. Ltd.</td>\n",
       "      <td>Bangalore/Bengaluru(Ulsoor)</td>\n",
       "      <td>5-8 Yrs</td>\n",
       "    </tr>\n",
       "    <tr>\n",
       "      <th>9</th>\n",
       "      <td>Senior Data Analyst</td>\n",
       "      <td>Cerner</td>\n",
       "      <td>Bangalore/Bengaluru</td>\n",
       "      <td>3-5 Yrs</td>\n",
       "    </tr>\n",
       "  </tbody>\n",
       "</table>\n",
       "</div>"
      ],
      "text/plain": [
       "                 title                                  company  \\\n",
       "0         Data Analyst                             RedLock, Inc   \n",
       "1         Data Analyst                    Super India Tech Mark   \n",
       "2         Data Analyst                        tech mahindra ltd   \n",
       "3         Data Analyst     CONDUENT BUSINESS SERVICES INDIA LLP   \n",
       "4         Data Analyst  GlaxoSmithKline Pharmaceuticals Limited   \n",
       "5         Data Analyst                 Myntra Designs Pvt. Ltd.   \n",
       "6         Data Analyst                 Myntra Designs Pvt. Ltd.   \n",
       "7         Data Analyst                 Myntra Designs Pvt. Ltd.   \n",
       "8         Data Analyst            WEIWO Communication Pvt. Ltd.   \n",
       "9  Senior Data Analyst                                   Cerner   \n",
       "\n",
       "                         location experience  \n",
       "0             Bangalore/Bengaluru    0-0 Yrs  \n",
       "1  Bangalore/Bengaluru(Devalapur)    0-2 Yrs  \n",
       "2             Bangalore/Bengaluru    4-8 Yrs  \n",
       "3             Bangalore/Bengaluru    1-2 Yrs  \n",
       "4             Bangalore/Bengaluru    2-7 Yrs  \n",
       "5             Bangalore/Bengaluru    3-6 Yrs  \n",
       "6             Bangalore/Bengaluru    4-8 Yrs  \n",
       "7             Bangalore/Bengaluru    4-8 Yrs  \n",
       "8     Bangalore/Bengaluru(Ulsoor)    5-8 Yrs  \n",
       "9             Bangalore/Bengaluru    3-5 Yrs  "
      ]
     },
     "execution_count": 45,
     "metadata": {},
     "output_type": "execute_result"
    }
   ],
   "source": [
    "jobs"
   ]
  },
  {
   "cell_type": "code",
   "execution_count": 46,
   "metadata": {},
   "outputs": [],
   "source": [
    "import pickle\n",
    "filename= 'Selenium AssignmentQ1.pkl'\n",
    "pickle.dump(jobs,open(filename,'wb'))"
   ]
  },
  {
   "cell_type": "code",
   "execution_count": null,
   "metadata": {},
   "outputs": [],
   "source": []
  },
  {
   "cell_type": "code",
   "execution_count": null,
   "metadata": {},
   "outputs": [],
   "source": []
  },
  {
   "cell_type": "code",
   "execution_count": null,
   "metadata": {},
   "outputs": [],
   "source": []
  },
  {
   "cell_type": "code",
   "execution_count": null,
   "metadata": {},
   "outputs": [],
   "source": []
  },
  {
   "cell_type": "code",
   "execution_count": null,
   "metadata": {},
   "outputs": [],
   "source": []
  },
  {
   "cell_type": "code",
   "execution_count": null,
   "metadata": {},
   "outputs": [],
   "source": []
  },
  {
   "cell_type": "code",
   "execution_count": null,
   "metadata": {},
   "outputs": [],
   "source": []
  },
  {
   "cell_type": "code",
   "execution_count": null,
   "metadata": {},
   "outputs": [],
   "source": []
  }
 ],
 "metadata": {
  "kernelspec": {
   "display_name": "Python 3",
   "language": "python",
   "name": "python3"
  },
  "language_info": {
   "codemirror_mode": {
    "name": "ipython",
    "version": 3
   },
   "file_extension": ".py",
   "mimetype": "text/x-python",
   "name": "python",
   "nbconvert_exporter": "python",
   "pygments_lexer": "ipython3",
   "version": "3.8.3"
  }
 },
 "nbformat": 4,
 "nbformat_minor": 4
}
